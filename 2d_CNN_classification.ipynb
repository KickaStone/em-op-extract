{
 "cells": [
  {
   "cell_type": "code",
   "execution_count": 2,
   "metadata": {},
   "outputs": [],
   "source": [
    "import os\n",
    "import torch\n",
    "import torchsummary\n",
    "from models import CNN_2d\n",
    "from train_2d import train_datasets"
   ]
  },
  {
   "cell_type": "code",
   "execution_count": 3,
   "metadata": {},
   "outputs": [
    {
     "name": "stdout",
     "output_type": "stream",
     "text": [
      "----------------------------------------------------------------\n",
      "        Layer (type)               Output Shape         Param #\n",
      "================================================================\n",
      "            Conv2d-1         [-1, 16, 512, 512]             160\n",
      "         AvgPool2d-2         [-1, 16, 256, 256]               0\n",
      "            Conv2d-3         [-1, 32, 256, 256]           4,640\n",
      "         AvgPool2d-4         [-1, 32, 128, 128]               0\n",
      "            Conv2d-5         [-1, 64, 128, 128]          18,496\n",
      "         AvgPool2d-6           [-1, 64, 64, 64]               0\n",
      "            Conv2d-7          [-1, 128, 64, 64]          73,856\n",
      "         AvgPool2d-8          [-1, 128, 32, 32]               0\n",
      "            Conv2d-9          [-1, 128, 32, 32]         147,584\n",
      "        AvgPool2d-10          [-1, 128, 16, 16]               0\n",
      "           Linear-11                 [-1, 2048]      67,110,912\n",
      "           Linear-12                 [-1, 2048]       4,196,352\n",
      "           Linear-13                    [-1, 9]          18,441\n",
      "================================================================\n",
      "Total params: 71,570,441\n",
      "Trainable params: 71,570,441\n",
      "Non-trainable params: 0\n",
      "----------------------------------------------------------------\n",
      "Input size (MB): 1.00\n",
      "Forward/backward pass size (MB): 76.28\n",
      "Params size (MB): 273.02\n",
      "Estimated Total Size (MB): 350.30\n",
      "----------------------------------------------------------------\n"
     ]
    }
   ],
   "source": [
    "device = torch.device('cuda' if torch.cuda.is_available() else 'cpu')\n",
    "cnn_2d = CNN_2d()\n",
    "cnn_2d = cnn_2d.to(device)\n",
    "torchsummary.summary(cnn_2d, (1, 512, 512))\n",
    "del cnn_2d"
   ]
  },
  {
   "cell_type": "code",
   "execution_count": 4,
   "metadata": {},
   "outputs": [],
   "source": [
    "# Params\n",
    "batch_size = 20\n",
    "epochs = 10\n",
    "dataset_root = './datasets'\n",
    "train_dataset = 'nodemcu-random-train2'\n",
    "test_dataset = 'nodemcu-random-test2'"
   ]
  },
  {
   "cell_type": "code",
   "execution_count": 5,
   "metadata": {},
   "outputs": [
    {
     "name": "stdout",
     "output_type": "stream",
     "text": [
      "Failed to get validation set\n"
     ]
    },
    {
     "ename": "FileNotFoundError",
     "evalue": "[Errno 2] No such file or directory: './datasets/n'",
     "output_type": "error",
     "traceback": [
      "\u001b[0;31m---------------------------------------------------------------------------\u001b[0m",
      "\u001b[0;31mFileNotFoundError\u001b[0m                         Traceback (most recent call last)",
      "Cell \u001b[0;32mIn[5], line 1\u001b[0m\n\u001b[0;32m----> 1\u001b[0m \u001b[43mtrain_datasets\u001b[49m\u001b[43m(\u001b[49m\u001b[43mtrain_dataset\u001b[49m\u001b[43m,\u001b[49m\u001b[43m \u001b[49m\u001b[38;5;28;43;01mFalse\u001b[39;49;00m\u001b[43m,\u001b[49m\u001b[43m \u001b[49m\u001b[43mepochs\u001b[49m\u001b[43m)\u001b[49m\n",
      "File \u001b[0;32m~/Projects/em-op-extract/train_2d.py:27\u001b[0m, in \u001b[0;36mtrain_datasets\u001b[0;34m(dataset_names, with_bounds, epochs)\u001b[0m\n\u001b[1;32m     25\u001b[0m \u001b[38;5;28;01mfor\u001b[39;00m dataset_name \u001b[38;5;129;01min\u001b[39;00m dataset_names:\n\u001b[1;32m     26\u001b[0m     dataset_path \u001b[38;5;241m=\u001b[39m os\u001b[38;5;241m.\u001b[39mpath\u001b[38;5;241m.\u001b[39mjoin(datasets_root, dataset_name)\n\u001b[0;32m---> 27\u001b[0m     dataset_files \u001b[38;5;241m=\u001b[39m \u001b[38;5;28mlist\u001b[39m(\u001b[43mos\u001b[49m\u001b[38;5;241;43m.\u001b[39;49m\u001b[43mlistdir\u001b[49m\u001b[43m(\u001b[49m\u001b[43mdataset_path\u001b[49m\u001b[43m)\u001b[49m)\n\u001b[1;32m     28\u001b[0m     cnt \u001b[38;5;241m=\u001b[39m \u001b[38;5;241m0\u001b[39m\n\u001b[1;32m     29\u001b[0m     \u001b[38;5;28;01mfor\u001b[39;00m epoch \u001b[38;5;129;01min\u001b[39;00m \u001b[38;5;28mrange\u001b[39m(epochs):\n",
      "\u001b[0;31mFileNotFoundError\u001b[0m: [Errno 2] No such file or directory: './datasets/n'"
     ]
    }
   ],
   "source": [
    "# train \n",
    "train_datasets(train_dataset, False, epochs)"
   ]
  },
  {
   "cell_type": "code",
   "execution_count": null,
   "metadata": {},
   "outputs": [],
   "source": [
    "# Validate"
   ]
  }
 ],
 "metadata": {
  "kernelspec": {
   "display_name": ".venv",
   "language": "python",
   "name": "python3"
  },
  "language_info": {
   "codemirror_mode": {
    "name": "ipython",
    "version": 3
   },
   "file_extension": ".py",
   "mimetype": "text/x-python",
   "name": "python",
   "nbconvert_exporter": "python",
   "pygments_lexer": "ipython3",
   "version": "3.11.8"
  }
 },
 "nbformat": 4,
 "nbformat_minor": 2
}
