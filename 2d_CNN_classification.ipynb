{
 "cells": [
  {
   "cell_type": "code",
   "execution_count": 12,
   "metadata": {},
   "outputs": [],
   "source": [
    "import os\n",
    "import numpy as np\n",
    "import torch\n",
    "import torchsummary\n",
    "from torch import nn\n",
    "from models import CNN_2d\n",
    "from train_2d import train_datasets"
   ]
  },
  {
   "cell_type": "code",
   "execution_count": 13,
   "metadata": {},
   "outputs": [
    {
     "name": "stdout",
     "output_type": "stream",
     "text": [
      "----------------------------------------------------------------\n",
      "        Layer (type)               Output Shape         Param #\n",
      "================================================================\n",
      "            Conv2d-1         [-1, 16, 512, 512]             160\n",
      "         AvgPool2d-2         [-1, 16, 256, 256]               0\n",
      "            Conv2d-3         [-1, 32, 256, 256]           4,640\n",
      "         AvgPool2d-4         [-1, 32, 128, 128]               0\n",
      "            Conv2d-5         [-1, 64, 128, 128]          18,496\n",
      "         AvgPool2d-6           [-1, 64, 64, 64]               0\n",
      "            Conv2d-7          [-1, 128, 64, 64]          73,856\n",
      "         AvgPool2d-8          [-1, 128, 32, 32]               0\n",
      "            Conv2d-9          [-1, 128, 32, 32]         147,584\n",
      "        AvgPool2d-10          [-1, 128, 16, 16]               0\n",
      "           Linear-11                 [-1, 2048]      67,110,912\n",
      "           Linear-12                 [-1, 2048]       4,196,352\n",
      "           Linear-13                    [-1, 9]          18,441\n",
      "================================================================\n",
      "Total params: 71,570,441\n",
      "Trainable params: 71,570,441\n",
      "Non-trainable params: 0\n",
      "----------------------------------------------------------------\n",
      "Input size (MB): 1.00\n",
      "Forward/backward pass size (MB): 76.28\n",
      "Params size (MB): 273.02\n",
      "Estimated Total Size (MB): 350.30\n",
      "----------------------------------------------------------------\n"
     ]
    }
   ],
   "source": [
    "device = torch.device('cuda' if torch.cuda.is_available() else 'cpu')\n",
    "cnn_2d = CNN_2d()\n",
    "cnn_2d = cnn_2d.to(device)\n",
    "torchsummary.summary(cnn_2d, (1, 512, 512))"
   ]
  },
  {
   "cell_type": "code",
   "execution_count": 14,
   "metadata": {},
   "outputs": [],
   "source": [
    "# Params\n",
    "batch_size = 20\n",
    "epochs = 10\n",
    "filter_method = 'abs_nofit'\n",
    "batch_size = 20\n",
    "datasets_root = './datasets'\n",
    "train_dataset = 'nodemcu-random-train2'\n",
    "test_dataset = 'nodemcu-random-test2'\n",
    "\n",
    "def split_batch(batch):\n",
    "    inputs = np.stack(batch[:, 0], axis=0)[:, :, None]\n",
    "    targets = np.stack(batch[:, 1], axis=0)\n",
    "    labels = np.stack(batch[:, 2], axis=0)\n",
    "    inputs = np.squeeze(inputs, axis=2)\n",
    "    return inputs, targets, labels"
   ]
  },
  {
   "cell_type": "code",
   "execution_count": 15,
   "metadata": {},
   "outputs": [
    {
     "ename": "FileNotFoundError",
     "evalue": "[Errno 2] No such file or directory: './datasets/nodemcu-random-train2'",
     "output_type": "error",
     "traceback": [
      "\u001b[0;31m---------------------------------------------------------------------------\u001b[0m",
      "\u001b[0;31mFileNotFoundError\u001b[0m                         Traceback (most recent call last)",
      "Cell \u001b[0;32mIn[15], line 14\u001b[0m\n\u001b[1;32m     12\u001b[0m \u001b[38;5;28;01mfor\u001b[39;00m dataset_name \u001b[38;5;129;01min\u001b[39;00m dataset_names:\n\u001b[1;32m     13\u001b[0m     dataset_path \u001b[38;5;241m=\u001b[39m os\u001b[38;5;241m.\u001b[39mpath\u001b[38;5;241m.\u001b[39mjoin(datasets_root, dataset_name)\n\u001b[0;32m---> 14\u001b[0m     dataset_files \u001b[38;5;241m=\u001b[39m \u001b[38;5;28mlist\u001b[39m(\u001b[43mos\u001b[49m\u001b[38;5;241;43m.\u001b[39;49m\u001b[43mlistdir\u001b[49m\u001b[43m(\u001b[49m\u001b[43mdataset_path\u001b[49m\u001b[43m)\u001b[49m)\n\u001b[1;32m     15\u001b[0m     cnt \u001b[38;5;241m=\u001b[39m \u001b[38;5;241m0\u001b[39m\n\u001b[1;32m     16\u001b[0m     \u001b[38;5;28;01mfor\u001b[39;00m epoch \u001b[38;5;129;01min\u001b[39;00m \u001b[38;5;28mrange\u001b[39m(epochs):\n",
      "\u001b[0;31mFileNotFoundError\u001b[0m: [Errno 2] No such file or directory: './datasets/nodemcu-random-train2'"
     ]
    }
   ],
   "source": [
    "# train \n",
    "from batch import get_batch_2d\n",
    "\n",
    "dataset_names = [train_dataset]\n",
    "\n",
    "model = cnn_2d\n",
    "\n",
    "criterion = nn.CrossEntropyLoss()\n",
    "optimizer = torch.optim.Adam(model.parameters(), lr=0.0001)\n",
    "\n",
    "batch_c = []  # Batch container\n",
    "for dataset_name in dataset_names:\n",
    "    dataset_path = os.path.join(datasets_root, dataset_name)\n",
    "    dataset_files = list(os.listdir(dataset_path))\n",
    "\n",
    "    for epoch in range(epochs):\n",
    "        for i, dataset_file in enumerate(dataset_files):\n",
    "            if '_traces.npy' in dataset_file:\n",
    "                for batch in get_batch_2d(dataset_path, dataset_file, batch_c, batch_size=20):\n",
    "\n",
    "                    input, target, label = split_batch(batch)\n",
    "                    if np.isnan(input).any():\n",
    "                        continue\n",
    "\n",
    "\n",
    "                    xs = torch.tensor(input).float().to(device)\n",
    "                    ys = torch.tensor(label).float().to(device)\n",
    "\n",
    "                    y_pred = model(xs)\n",
    "\n",
    "                    loss = criterion(y_pred, ys)\n",
    "\n",
    "                    optimizer.zero_grad()\n",
    "                    loss.backward()\n",
    "                    torch.nn.utils.clip_grad_norm_(model.parameters(), 5)\n",
    "                    optimizer.step()\n",
    "        # saving model every epoch\n",
    "        torch.save(model.state_dict(), f\"models/cnn2d_{epoch}.pt\")\n",
    "\n",
    "print('Training done')"
   ]
  },
  {
   "cell_type": "code",
   "execution_count": null,
   "metadata": {},
   "outputs": [],
   "source": [
    "# Validate\n",
    "# load model\n",
    "from sklearn.metrics import classification_report, confusion_matrix\n",
    "\n",
    "test_dataset_path = os.path.join(datasets_root, test_dataset)\n",
    "test_dataset_files = list(os.listdir(test_dataset_path))\n",
    "\n",
    "\n",
    "for i in range(epoch):\n",
    "    model.load_state_dict(torch.load(f\"models/cnn2d_{i}.pt\"))\n",
    "    true_labels = []\n",
    "    pred_labels = []\n",
    "    for i, dataset_file in enumerate(test_dataset_files):\n",
    "        if '_traces.npy' in dataset_file:\n",
    "            for batch in get_batch_2d(test_dataset_path, dataset_file, batch_c, batch_size=20):\n",
    "\n",
    "                input, target, label = split_batch(batch)\n",
    "                if np.isnan(input).any():\n",
    "                    continue\n",
    "\n",
    "                xs = torch.tensor(input).float().to(device)\n",
    "                ys = torch.tensor(label).float().to(device)\n",
    "\n",
    "                y_pred = model(xs)\n",
    "\n",
    "                loss = criterion(y_pred, ys)\n",
    "                \n",
    "                true_labels.extend(label)\n",
    "                pred_labels.extend(y_pred.argmax(dim=1).cpu().numpy())\n",
    "\n",
    "                print(f'Loss: {loss.item()}')\n",
    "                \n",
    "    print(classification_report(true_labels, pred_labels))"
   ]
  }
 ],
 "metadata": {
  "kernelspec": {
   "display_name": ".venv",
   "language": "python",
   "name": "python3"
  },
  "language_info": {
   "codemirror_mode": {
    "name": "ipython",
    "version": 3
   },
   "file_extension": ".py",
   "mimetype": "text/x-python",
   "name": "python",
   "nbconvert_exporter": "python",
   "pygments_lexer": "ipython3",
   "version": "3.11.8"
  }
 },
 "nbformat": 4,
 "nbformat_minor": 2
}
